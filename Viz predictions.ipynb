{
 "cells": [
  {
   "cell_type": "code",
   "execution_count": 48,
   "metadata": {
    "collapsed": true
   },
   "outputs": [],
   "source": [
    "from __future__ import division\n",
    "import os\n",
    "import pandas as pd"
   ]
  },
  {
   "cell_type": "markdown",
   "metadata": {},
   "source": [
    "## Load data"
   ]
  },
  {
   "cell_type": "code",
   "execution_count": 49,
   "metadata": {},
   "outputs": [
    {
     "name": "stdout",
     "output_type": "stream",
     "text": [
      "323832\n"
     ]
    }
   ],
   "source": [
    "expected_tags = {}\n",
    "all_tags = set()\n",
    "with open(\"./rawInput/train-augmented.csv\", \"r\") as train_labels:\n",
    "    train_labels.readline()\n",
    "    for line in train_labels:\n",
    "        img, tags = line.rstrip(\"\\n\").split(\",\")\n",
    "        expected_tags[img] = tags.split(\" \")\n",
    "        all_tags.update(train_tags[img])\n",
    "print len(expected_tags)"
   ]
  },
  {
   "cell_type": "code",
   "execution_count": 50,
   "metadata": {},
   "outputs": [
    {
     "name": "stdout",
     "output_type": "stream",
     "text": [
      "323832\n"
     ]
    }
   ],
   "source": [
    "predicted_tags = {}\n",
    "with open(\"./predict/train-predict.csv\", \"r\") as predict_labels:\n",
    "    predict_labels.readline()\n",
    "    for line in predict_labels:\n",
    "        img, tags = line.rstrip(\"\\n\").split(\",\")\n",
    "        predicted_tags[img] = tags.split(\" \")\n",
    "print len(predicted_tags)"
   ]
  },
  {
   "cell_type": "code",
   "execution_count": 51,
   "metadata": {},
   "outputs": [
    {
     "name": "stdout",
     "output_type": "stream",
     "text": [
      "original images: 40479\n",
      "total images: 323832\n",
      "training set: 291448\n",
      "validation set: 32384\n"
     ]
    }
   ],
   "source": [
    "training_set = set([])\n",
    "validation_set = set([])\n",
    "with open(\"./train/training-files.csv\", \"r\") as training_files:\n",
    "    original_training_set = set(training_files.readline().strip().split(\",\"))\n",
    "    for f in os.listdir(\"./rawInput/train-jpg\"):\n",
    "        filename = f.split(\".\")[0]\n",
    "        s = training_set if filename in original_training_set else validation_set\n",
    "        for i in range(8):\n",
    "            s.add(\"{name}--{i}\".format(name=filename, i=i))\n",
    "\n",
    "print \"original images:\", len(os.listdir(\"./rawInput/train-jpg\"))\n",
    "print \"total images:\", len(os.listdir(\"./rawInput/train-jpg-augmented\"))\n",
    "print \"training set:\", len(training_set)\n",
    "print \"validation set:\", len(validation_set)"
   ]
  },
  {
   "cell_type": "markdown",
   "metadata": {},
   "source": [
    "## Read predictions"
   ]
  },
  {
   "cell_type": "markdown",
   "metadata": {},
   "source": [
    "### Per label score"
   ]
  },
  {
   "cell_type": "code",
   "execution_count": 61,
   "metadata": {
    "scrolled": true
   },
   "outputs": [
    {
     "data": {
      "text/html": [
       "<div>\n",
       "<table border=\"1\" class=\"dataframe\">\n",
       "  <thead>\n",
       "    <tr style=\"text-align: right;\">\n",
       "      <th></th>\n",
       "      <th>tp</th>\n",
       "      <th>fp</th>\n",
       "      <th>fn</th>\n",
       "      <th>validation precision</th>\n",
       "      <th>validation recall</th>\n",
       "      <th>f2</th>\n",
       "    </tr>\n",
       "  </thead>\n",
       "  <tbody>\n",
       "    <tr>\n",
       "      <th>slash_burn</th>\n",
       "      <td>17</td>\n",
       "      <td>57</td>\n",
       "      <td>159</td>\n",
       "      <td>0.229730</td>\n",
       "      <td>0.096591</td>\n",
       "      <td>0.109254</td>\n",
       "    </tr>\n",
       "    <tr>\n",
       "      <th>clear</th>\n",
       "      <td>21679</td>\n",
       "      <td>1016</td>\n",
       "      <td>985</td>\n",
       "      <td>0.955232</td>\n",
       "      <td>0.956539</td>\n",
       "      <td>0.956277</td>\n",
       "    </tr>\n",
       "    <tr>\n",
       "      <th>blooming</th>\n",
       "      <td>36</td>\n",
       "      <td>182</td>\n",
       "      <td>124</td>\n",
       "      <td>0.165138</td>\n",
       "      <td>0.225000</td>\n",
       "      <td>0.209790</td>\n",
       "    </tr>\n",
       "    <tr>\n",
       "      <th>primary</th>\n",
       "      <td>29188</td>\n",
       "      <td>804</td>\n",
       "      <td>596</td>\n",
       "      <td>0.973193</td>\n",
       "      <td>0.979989</td>\n",
       "      <td>0.978622</td>\n",
       "    </tr>\n",
       "    <tr>\n",
       "      <th>cloudy</th>\n",
       "      <td>1427</td>\n",
       "      <td>401</td>\n",
       "      <td>405</td>\n",
       "      <td>0.780635</td>\n",
       "      <td>0.778930</td>\n",
       "      <td>0.779270</td>\n",
       "    </tr>\n",
       "    <tr>\n",
       "      <th>conventional_mine</th>\n",
       "      <td>74</td>\n",
       "      <td>35</td>\n",
       "      <td>46</td>\n",
       "      <td>0.678899</td>\n",
       "      <td>0.616667</td>\n",
       "      <td>0.628183</td>\n",
       "    </tr>\n",
       "    <tr>\n",
       "      <th>water</th>\n",
       "      <td>4187</td>\n",
       "      <td>1080</td>\n",
       "      <td>1621</td>\n",
       "      <td>0.794950</td>\n",
       "      <td>0.720902</td>\n",
       "      <td>0.734587</td>\n",
       "    </tr>\n",
       "    <tr>\n",
       "      <th>haze</th>\n",
       "      <td>1430</td>\n",
       "      <td>716</td>\n",
       "      <td>826</td>\n",
       "      <td>0.666356</td>\n",
       "      <td>0.633865</td>\n",
       "      <td>0.640107</td>\n",
       "    </tr>\n",
       "    <tr>\n",
       "      <th>cultivation</th>\n",
       "      <td>1847</td>\n",
       "      <td>1287</td>\n",
       "      <td>2017</td>\n",
       "      <td>0.589343</td>\n",
       "      <td>0.478002</td>\n",
       "      <td>0.496772</td>\n",
       "    </tr>\n",
       "    <tr>\n",
       "      <th>partly_cloudy</th>\n",
       "      <td>5069</td>\n",
       "      <td>646</td>\n",
       "      <td>563</td>\n",
       "      <td>0.886964</td>\n",
       "      <td>0.900036</td>\n",
       "      <td>0.897391</td>\n",
       "    </tr>\n",
       "    <tr>\n",
       "      <th>artisinal_mine</th>\n",
       "      <td>223</td>\n",
       "      <td>49</td>\n",
       "      <td>73</td>\n",
       "      <td>0.819853</td>\n",
       "      <td>0.753378</td>\n",
       "      <td>0.765797</td>\n",
       "    </tr>\n",
       "    <tr>\n",
       "      <th>habitation</th>\n",
       "      <td>1854</td>\n",
       "      <td>787</td>\n",
       "      <td>906</td>\n",
       "      <td>0.702007</td>\n",
       "      <td>0.671739</td>\n",
       "      <td>0.677582</td>\n",
       "    </tr>\n",
       "    <tr>\n",
       "      <th>bare_ground</th>\n",
       "      <td>193</td>\n",
       "      <td>249</td>\n",
       "      <td>575</td>\n",
       "      <td>0.436652</td>\n",
       "      <td>0.251302</td>\n",
       "      <td>0.274616</td>\n",
       "    </tr>\n",
       "    <tr>\n",
       "      <th>blow_down</th>\n",
       "      <td>46</td>\n",
       "      <td>42</td>\n",
       "      <td>34</td>\n",
       "      <td>0.522727</td>\n",
       "      <td>0.575000</td>\n",
       "      <td>0.563725</td>\n",
       "    </tr>\n",
       "    <tr>\n",
       "      <th>agriculture</th>\n",
       "      <td>8276</td>\n",
       "      <td>1681</td>\n",
       "      <td>1628</td>\n",
       "      <td>0.831174</td>\n",
       "      <td>0.835622</td>\n",
       "      <td>0.834729</td>\n",
       "    </tr>\n",
       "    <tr>\n",
       "      <th>road</th>\n",
       "      <td>5322</td>\n",
       "      <td>1111</td>\n",
       "      <td>1254</td>\n",
       "      <td>0.827297</td>\n",
       "      <td>0.809307</td>\n",
       "      <td>0.812842</td>\n",
       "    </tr>\n",
       "    <tr>\n",
       "      <th>selective_logging</th>\n",
       "      <td>91</td>\n",
       "      <td>125</td>\n",
       "      <td>181</td>\n",
       "      <td>0.421296</td>\n",
       "      <td>0.334559</td>\n",
       "      <td>0.348926</td>\n",
       "    </tr>\n",
       "  </tbody>\n",
       "</table>\n",
       "</div>"
      ],
      "text/plain": [
       "                      tp    fp    fn  validation precision  validation recall  \\\n",
       "slash_burn            17    57   159              0.229730           0.096591   \n",
       "clear              21679  1016   985              0.955232           0.956539   \n",
       "blooming              36   182   124              0.165138           0.225000   \n",
       "primary            29188   804   596              0.973193           0.979989   \n",
       "cloudy              1427   401   405              0.780635           0.778930   \n",
       "conventional_mine     74    35    46              0.678899           0.616667   \n",
       "water               4187  1080  1621              0.794950           0.720902   \n",
       "haze                1430   716   826              0.666356           0.633865   \n",
       "cultivation         1847  1287  2017              0.589343           0.478002   \n",
       "partly_cloudy       5069   646   563              0.886964           0.900036   \n",
       "artisinal_mine       223    49    73              0.819853           0.753378   \n",
       "habitation          1854   787   906              0.702007           0.671739   \n",
       "bare_ground          193   249   575              0.436652           0.251302   \n",
       "blow_down             46    42    34              0.522727           0.575000   \n",
       "agriculture         8276  1681  1628              0.831174           0.835622   \n",
       "road                5322  1111  1254              0.827297           0.809307   \n",
       "selective_logging     91   125   181              0.421296           0.334559   \n",
       "\n",
       "                         f2  \n",
       "slash_burn         0.109254  \n",
       "clear              0.956277  \n",
       "blooming           0.209790  \n",
       "primary            0.978622  \n",
       "cloudy             0.779270  \n",
       "conventional_mine  0.628183  \n",
       "water              0.734587  \n",
       "haze               0.640107  \n",
       "cultivation        0.496772  \n",
       "partly_cloudy      0.897391  \n",
       "artisinal_mine     0.765797  \n",
       "habitation         0.677582  \n",
       "bare_ground        0.274616  \n",
       "blow_down          0.563725  \n",
       "agriculture        0.834729  \n",
       "road               0.812842  \n",
       "selective_logging  0.348926  "
      ]
     },
     "execution_count": 61,
     "metadata": {},
     "output_type": "execute_result"
    }
   ],
   "source": [
    "# First value is number of correctly predicted\n",
    "# Second is number of not detected (false negative)\n",
    "# Third is number of inaccurately predicted (false positive)\n",
    "tags_score = {t: { \"tp\":0, \"fn\": 0, \"fp\": 0} for t in all_tags}\n",
    "\n",
    "\n",
    "def scores(tp, fp, fn):\n",
    "    p = tp / (tp + fp)\n",
    "    r = tp / (tp + fn)\n",
    "    if p == 0 or r == 0:\n",
    "        f2 = 0\n",
    "    else:\n",
    "        b = 2\n",
    "        f2 = (1 + b**2) * p * r / (b**2*p + r)\n",
    "    return p, r, f2\n",
    "    \n",
    "    \n",
    "for img in validation_set:\n",
    "    true_tags = train_tags[img]\n",
    "    predicted_tags = pred_tags[img]\n",
    "    for t in true_tags:\n",
    "        if t in predicted_tags:\n",
    "            tags_score[t][\"tp\"] += 1\n",
    "        else:\n",
    "            tags_score[t][\"fn\"] += 1\n",
    "    for t in predicted_tags:\n",
    "        if t not in true_tags:\n",
    "            tags_score[t][\"fp\"] += 1\n",
    "\n",
    "data = []\n",
    "for tag in all_tags:\n",
    "    s = tags_score[tag]\n",
    "    p, r, f2 = scores(s[\"tp\"], s[\"fp\"], s[\"fn\"])\n",
    "    data.append([s[\"tp\"], s[\"fp\"], s[\"fn\"], p, r, f2])\n",
    "\n",
    "columns = [\"tp\", \"fp\", \"fn\", \"validation precision\", \"validation recall\", \"f2\"]\n",
    "df = pd.DataFrame(data=data, index=all_tags, columns=columns)\n",
    "df"
   ]
  },
  {
   "cell_type": "markdown",
   "metadata": {},
   "source": [
    "## F2 score"
   ]
  },
  {
   "cell_type": "code",
   "execution_count": 62,
   "metadata": {
    "collapsed": true
   },
   "outputs": [],
   "source": [
    "LABELS = ['clear', 'cloudy', 'haze', 'partly_cloudy', 'agriculture', 'artisinal_mine', 'bare_ground', 'blooming', 'blow_down', 'conventional_mine', 'cultivation', 'habitation', 'primary', 'road', 'selective_logging', 'slash_burn', 'water']"
   ]
  },
  {
   "cell_type": "code",
   "execution_count": 63,
   "metadata": {},
   "outputs": [],
   "source": [
    "import numpy as np\n",
    "from sklearn.metrics import fbeta_score\n",
    "def F2Score(predicted, actual):\n",
    "    # see https://www.kaggle.com/c/planet-understanding-the-amazon-from-space#evaluation\n",
    "    predicted = set(predicted)\n",
    "    actual = set(actual)\n",
    "    tp = len(predicted & actual)\n",
    "    tn = len(LABELS) - len(predicted | actual)\n",
    "    fp = len(predicted) - tp\n",
    "    fn = (len(LABELS) - len(predicted)) - tn\n",
    "    return scores(tp, fp, fn)[2]\n",
    "\n",
    "def scoreSet(data_set):\n",
    "    f2, n = 0, 0\n",
    "    for img in data_set:\n",
    "        real_tags = train_tags[img]\n",
    "        predicted_tags = pred_tags[img]\n",
    "        f2 += F2Score(real_tags, predicted_tags)\n",
    "        n += 1\n",
    "    return f2 / n"
   ]
  },
  {
   "cell_type": "code",
   "execution_count": 64,
   "metadata": {},
   "outputs": [
    {
     "name": "stdout",
     "output_type": "stream",
     "text": [
      "F2 score for training set 0.994026038266\n",
      "F2 score validation set 0.894884424695\n"
     ]
    }
   ],
   "source": [
    "print \"F2 score for training set\", scoreSet(training_set)\n",
    "print \"F2 score validation set\", scoreSet(validation_set)"
   ]
  },
  {
   "cell_type": "code",
   "execution_count": null,
   "metadata": {
    "collapsed": true
   },
   "outputs": [],
   "source": []
  },
  {
   "cell_type": "code",
   "execution_count": null,
   "metadata": {
    "collapsed": true
   },
   "outputs": [],
   "source": []
  },
  {
   "cell_type": "code",
   "execution_count": null,
   "metadata": {
    "collapsed": true
   },
   "outputs": [],
   "source": []
  },
  {
   "cell_type": "code",
   "execution_count": null,
   "metadata": {
    "collapsed": true
   },
   "outputs": [],
   "source": []
  },
  {
   "cell_type": "code",
   "execution_count": null,
   "metadata": {
    "collapsed": true
   },
   "outputs": [],
   "source": []
  },
  {
   "cell_type": "code",
   "execution_count": null,
   "metadata": {
    "collapsed": true
   },
   "outputs": [],
   "source": []
  },
  {
   "cell_type": "code",
   "execution_count": null,
   "metadata": {
    "collapsed": true
   },
   "outputs": [],
   "source": []
  },
  {
   "cell_type": "code",
   "execution_count": null,
   "metadata": {
    "collapsed": true
   },
   "outputs": [],
   "source": []
  },
  {
   "cell_type": "code",
   "execution_count": null,
   "metadata": {
    "collapsed": true
   },
   "outputs": [],
   "source": []
  },
  {
   "cell_type": "code",
   "execution_count": null,
   "metadata": {
    "collapsed": true
   },
   "outputs": [],
   "source": []
  },
  {
   "cell_type": "code",
   "execution_count": null,
   "metadata": {
    "collapsed": true
   },
   "outputs": [],
   "source": []
  },
  {
   "cell_type": "code",
   "execution_count": null,
   "metadata": {
    "collapsed": true
   },
   "outputs": [],
   "source": []
  },
  {
   "cell_type": "code",
   "execution_count": null,
   "metadata": {
    "collapsed": true
   },
   "outputs": [],
   "source": []
  }
 ],
 "metadata": {
  "kernelspec": {
   "display_name": "Python 2",
   "language": "python",
   "name": "python2"
  },
  "language_info": {
   "codemirror_mode": {
    "name": "ipython",
    "version": 2
   },
   "file_extension": ".py",
   "mimetype": "text/x-python",
   "name": "python",
   "nbconvert_exporter": "python",
   "pygments_lexer": "ipython2",
   "version": "2.7.6"
  }
 },
 "nbformat": 4,
 "nbformat_minor": 2
}
