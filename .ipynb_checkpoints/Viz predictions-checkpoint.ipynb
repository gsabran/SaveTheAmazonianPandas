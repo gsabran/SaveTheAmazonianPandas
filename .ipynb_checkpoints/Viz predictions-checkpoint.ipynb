{
 "cells": [
  {
   "cell_type": "code",
   "execution_count": 40,
   "metadata": {
    "collapsed": true
   },
   "outputs": [],
   "source": [
    "from __future__ import division"
   ]
  },
  {
   "cell_type": "markdown",
   "metadata": {},
   "source": [
    "# Compute True, False positive and False negative for each tag"
   ]
  },
  {
   "cell_type": "code",
   "execution_count": 17,
   "metadata": {},
   "outputs": [
    {
     "name": "stdout",
     "output_type": "stream",
     "text": [
      "40479\n"
     ]
    }
   ],
   "source": [
    "train_tags = {}\n",
    "all_tags = set()\n",
    "with open(\"./rawInput/train.csv\", \"r\") as train_labels:\n",
    "    train_labels.readline()\n",
    "    for line in train_labels:\n",
    "        img, tags = line.rstrip(\"\\n\").split(\",\")\n",
    "        train_tags[img] = tags.split(\" \")\n",
    "        all_tags.update(train_tags[img])\n",
    "print len(train_tags)"
   ]
  },
  {
   "cell_type": "code",
   "execution_count": 18,
   "metadata": {},
   "outputs": [
    {
     "name": "stdout",
     "output_type": "stream",
     "text": [
      "40479\n"
     ]
    }
   ],
   "source": [
    "pred_tags = {}\n",
    "with open(\"./predict/train-predict.csv\", \"r\") as predict_labels:\n",
    "    predict_labels.readline()\n",
    "    for line in predict_labels:\n",
    "        img, tags = line.rstrip(\"\\n\").split(\",\")\n",
    "        pred_tags[img] = tags.split(\" \")\n",
    "print len(pred_tags)"
   ]
  },
  {
   "cell_type": "code",
   "execution_count": 49,
   "metadata": {
    "scrolled": true
   },
   "outputs": [
    {
     "name": "stdout",
     "output_type": "stream",
     "text": [
      "selective_logging [337, 3, 5]\n",
      "Precision 0.985380116959\n",
      "Recall 0.991176470588\n",
      "cultivation [4481, 66, 13]\n",
      "Precision 0.997107254117\n",
      "Recall 0.985484935122\n",
      "clear [28177, 26, 119]\n",
      "Precision 0.995794458581\n",
      "Recall 0.999078112258\n",
      "habitation [3646, 16, 26]\n",
      "Precision 0.992919389978\n",
      "Recall 0.99563080284\n",
      "conventional_mine [100, 0, 7]\n",
      "Precision 0.934579439252\n",
      "Recall 1.0\n",
      "cloudy [2218, 112, 40]\n",
      "Precision 0.982285208149\n",
      "Recall 0.951931330472\n",
      "primary [37818, 22, 105]\n",
      "Precision 0.997231231706\n",
      "Recall 0.999418604651\n",
      "water [7245, 17, 71]\n",
      "Precision 0.990295243302\n",
      "Recall 0.997659047094\n",
      "haze [2663, 32, 19]\n",
      "Precision 0.992915734526\n",
      "Recall 0.988126159555\n",
      "slash_burn [208, 1, 4]\n",
      "Precision 0.981132075472\n",
      "Recall 0.995215311005\n",
      "partly_cloudy [7239, 12, 4]\n",
      "Precision 0.999447742648\n",
      "Recall 0.998345055854\n",
      "artisinal_mine [334, 5, 0]\n",
      "Precision 1.0\n",
      "Recall 0.985250737463\n",
      "blooming [330, 2, 6]\n",
      "Precision 0.982142857143\n",
      "Recall 0.993975903614\n",
      "bare_ground [842, 17, 11]\n",
      "Precision 0.987104337632\n",
      "Recall 0.980209545984\n",
      "blow_down [98, 3, 2]\n",
      "Precision 0.98\n",
      "Recall 0.970297029703\n",
      "agriculture [12262, 76, 10]\n",
      "Precision 0.999185136897\n",
      "Recall 0.993840168585\n",
      "road [8007, 69, 7]\n",
      "Precision 0.999126528575\n",
      "Recall 0.991456166419\n"
     ]
    }
   ],
   "source": [
    "# First value is number of correctly predicted\n",
    "# Second is number of not detected (false negative)\n",
    "# Third is number of inaccurately predicted (false positive)\n",
    "tags_score = {t: [0,0,0] for t in all_tags}\n",
    "\n",
    "for img in train_tags:\n",
    "    true_tags = train_tags[img]\n",
    "    predicted_tags = pred_tags[img]\n",
    "    for t in true_tags:\n",
    "        if t in predicted_tags:\n",
    "            tags_score[t][0] += 1\n",
    "        else:\n",
    "            tags_score[t][1] += 1\n",
    "    for t in predicted_tags:\n",
    "        if t not in true_tags:\n",
    "            tags_score[t][2] += 1\n",
    "\n",
    "for t in tags_score:\n",
    "    print t, tags_score[t]\n",
    "    print \"Precision\", tags_score[t][0] / (tags_score[t][0] + tags_score[t][2])\n",
    "    print \"Recall\", tags_score[t][0] / (tags_score[t][0] + tags_score[t][1])"
   ]
  },
  {
   "cell_type": "markdown",
   "metadata": {},
   "source": [
    "# Compute F2 for training set"
   ]
  },
  {
   "cell_type": "code",
   "execution_count": 28,
   "metadata": {},
   "outputs": [],
   "source": [
    "LABELS = ['clear', 'cloudy', 'haze', 'partly_cloudy', 'agriculture', 'artisinal_mine', 'bare_ground', 'blooming', 'blow_down', 'conventional_mine', 'cultivation', 'habitation', 'primary', 'road', 'selective_logging', 'slash_burn', 'water']"
   ]
  },
  {
   "cell_type": "code",
   "execution_count": 47,
   "metadata": {},
   "outputs": [],
   "source": [
    "import numpy as np\n",
    "from sklearn.metrics import fbeta_score\n",
    "def F2Score(predicted, actual):\n",
    "    # see https://www.kaggle.com/c/planet-understanding-the-amazon-from-space#evaluation\n",
    "    predicted = set(predicted)\n",
    "    actual = set(actual)\n",
    "    tp = len(predicted & actual)\n",
    "    tn = len(LABELS) - len(predicted | actual)\n",
    "    fp = len(predicted) - tp\n",
    "    fn = (len(LABELS) - len(predicted)) - tn\n",
    "    p = tp / (tp + fp)\n",
    "    r = tp / (tp + fn)\n",
    "    if p == 0 or r == 0:\n",
    "        return 0\n",
    "    b = 2\n",
    "    return (1 + b**2) * p * r / (b**2*p + r)"
   ]
  },
  {
   "cell_type": "code",
   "execution_count": 48,
   "metadata": {},
   "outputs": [
    {
     "name": "stdout",
     "output_type": "stream",
     "text": [
      "0.995134762365\n"
     ]
    }
   ],
   "source": [
    "sum_f2 = 0\n",
    "num_imgs = 0\n",
    "for img in train_tags:\n",
    "    true_tags = train_tags[img]\n",
    "    predicted_tags = pred_tags[img]\n",
    "    sum_f2 += F2Score(true_tags, predicted_tags)\n",
    "    num_imgs += 1\n",
    "print sum_f2 / num_imgs"
   ]
  },
  {
   "cell_type": "code",
   "execution_count": null,
   "metadata": {
    "collapsed": true
   },
   "outputs": [],
   "source": []
  }
 ],
 "metadata": {
  "kernelspec": {
   "display_name": "Python 2",
   "language": "python",
   "name": "python2"
  },
  "language_info": {
   "codemirror_mode": {
    "name": "ipython",
    "version": 2
   },
   "file_extension": ".py",
   "mimetype": "text/x-python",
   "name": "python",
   "nbconvert_exporter": "python",
   "pygments_lexer": "ipython2",
   "version": "2.7.10"
  }
 },
 "nbformat": 4,
 "nbformat_minor": 2
}
